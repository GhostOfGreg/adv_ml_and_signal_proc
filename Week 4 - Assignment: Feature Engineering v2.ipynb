{
    "cells": [
        {
            "cell_type": "markdown",
            "metadata": {},
            "source": "# PLEASE NOTE: Please run this notebook OUTSIDE a Spark notebook as it should run in a plain Default Python 3.6 Free Environment\n\nThis is the last assignment for the Coursera course \"Advanced Machine Learning and Signal Processing\"\n\nJust execute all cells one after the other and you are done - just note that in the last one you should update your email address (the one you've used for coursera) and obtain a submission token, you get this from the programming assignment directly on coursera.\n\nPlease fill in the sections labelled with \"###YOUR_CODE_GOES_HERE###\"\n\nThe purpose of this assignment is to learn how feature engineering boosts model performance. You will apply Discrete Fourier Transformation on the accelerometer sensor time series and therefore transforming the dataset from the time to the frequency domain. \n\nAfter that, you\u2019ll use a classification algorithm of your choice to create a model and submit the new predictions to the grader. Done.\n\n"
        },
        {
            "cell_type": "code",
            "execution_count": 1,
            "metadata": {},
            "outputs": [],
            "source": "from IPython.display import Markdown, display\ndef printmd(string):\n    display(Markdown('# <span style=\"color:red\">'+string+'</span>'))\n\n\nif ('sc' in locals() or 'sc' in globals()):\n    printmd('<<<<<!!!!! It seems that you are running in a IBM Watson Studio Apache Spark Notebook. Please run it in an IBM Watson Studio Default Runtime (without Apache Spark) !!!!!>>>>>')\n    \n"
        },
        {
            "cell_type": "code",
            "execution_count": 2,
            "metadata": {
                "scrolled": true
            },
            "outputs": [
                {
                    "name": "stdout",
                    "output_type": "stream",
                    "text": "Collecting pyspark==3.2.1\n  Downloading pyspark-3.2.1.tar.gz (281.4 MB)\n\u001b[K     |\u2588\u2588\u2588\u2588\u2588\u2588\u2588\u2588\u2588\u2588\u2588\u2588\u2588\u2588\u2588\u2588\u2588\u2588\u2588\u2588\u2588\u2588\u2588\u2588\u2588\u2588\u2588\u2588\u2588\u2588\u2588\u2588| 281.4 MB 80 kB/s s eta 0:00:01\n\u001b[?25hCollecting systemds==2.2.1\n  Downloading systemds-2.2.1-py3-none-any.whl (50.9 MB)\n\u001b[K     |\u2588\u2588\u2588\u2588\u2588\u2588\u2588\u2588\u2588\u2588\u2588\u2588\u2588\u2588\u2588\u2588\u2588\u2588\u2588\u2588\u2588\u2588\u2588\u2588\u2588\u2588\u2588\u2588\u2588\u2588\u2588\u2588| 50.9 MB 30.0 MB/s eta 0:00:01\n\u001b[?25hCollecting py4j==0.10.9.3\n  Downloading py4j-0.10.9.3-py2.py3-none-any.whl (198 kB)\n\u001b[K     |\u2588\u2588\u2588\u2588\u2588\u2588\u2588\u2588\u2588\u2588\u2588\u2588\u2588\u2588\u2588\u2588\u2588\u2588\u2588\u2588\u2588\u2588\u2588\u2588\u2588\u2588\u2588\u2588\u2588\u2588\u2588\u2588| 198 kB 69.6 MB/s eta 0:00:01\n\u001b[?25hRequirement already satisfied: requests>=2.24.0 in /opt/conda/envs/Python-3.9/lib/python3.9/site-packages (from systemds==2.2.1) (2.26.0)\nRequirement already satisfied: pandas>=1.2.2 in /opt/conda/envs/Python-3.9/lib/python3.9/site-packages (from systemds==2.2.1) (1.3.4)\nRequirement already satisfied: numpy>=1.8.2 in /opt/conda/envs/Python-3.9/lib/python3.9/site-packages (from systemds==2.2.1) (1.20.3)\nRequirement already satisfied: python-dateutil>=2.7.3 in /opt/conda/envs/Python-3.9/lib/python3.9/site-packages (from pandas>=1.2.2->systemds==2.2.1) (2.8.2)\nRequirement already satisfied: pytz>=2017.3 in /opt/conda/envs/Python-3.9/lib/python3.9/site-packages (from pandas>=1.2.2->systemds==2.2.1) (2021.3)\nRequirement already satisfied: six>=1.5 in /opt/conda/envs/Python-3.9/lib/python3.9/site-packages (from python-dateutil>=2.7.3->pandas>=1.2.2->systemds==2.2.1) (1.15.0)\nRequirement already satisfied: idna<4,>=2.5 in /opt/conda/envs/Python-3.9/lib/python3.9/site-packages (from requests>=2.24.0->systemds==2.2.1) (3.3)\nRequirement already satisfied: urllib3<1.27,>=1.21.1 in /opt/conda/envs/Python-3.9/lib/python3.9/site-packages (from requests>=2.24.0->systemds==2.2.1) (1.26.7)\nRequirement already satisfied: certifi>=2017.4.17 in /opt/conda/envs/Python-3.9/lib/python3.9/site-packages (from requests>=2.24.0->systemds==2.2.1) (2021.10.8)\nRequirement already satisfied: charset-normalizer~=2.0.0 in /opt/conda/envs/Python-3.9/lib/python3.9/site-packages (from requests>=2.24.0->systemds==2.2.1) (2.0.4)\nBuilding wheels for collected packages: pyspark\n  Building wheel for pyspark (setup.py) ... \u001b[?25ldone\n\u001b[?25h  Created wheel for pyspark: filename=pyspark-3.2.1-py2.py3-none-any.whl size=281853642 sha256=5231f71268852c7e440015f6cbc7f3631b17b6cafc247f1e1ad14ce22bce186d\n  Stored in directory: /tmp/wsuser/.cache/pip/wheels/52/45/50/69db7b6e1da74a1b9fcc097827db9185cb8627117de852731e\nSuccessfully built pyspark\nInstalling collected packages: py4j, systemds, pyspark\nSuccessfully installed py4j-0.10.9.3 pyspark-3.2.1 systemds-2.2.1\n"
                }
            ],
            "source": "!pip install pyspark==3.2.1 systemds==2.2.1"
        },
        {
            "cell_type": "code",
            "execution_count": 3,
            "metadata": {},
            "outputs": [
                {
                    "name": "stderr",
                    "output_type": "stream",
                    "text": "WARNING: An illegal reflective access operation has occurred\nWARNING: Illegal reflective access by org.apache.spark.unsafe.Platform (file:/opt/conda/envs/Python-3.9/lib/python3.9/site-packages/pyspark/jars/spark-unsafe_2.12-3.2.1.jar) to constructor java.nio.DirectByteBuffer(long,int)\nWARNING: Please consider reporting this to the maintainers of org.apache.spark.unsafe.Platform\nWARNING: Use --illegal-access=warn to enable warnings of further illegal reflective access operations\nWARNING: All illegal access operations will be denied in a future release\nUsing Spark's default log4j profile: org/apache/spark/log4j-defaults.properties\nSetting default log level to \"WARN\".\nTo adjust logging level use sc.setLogLevel(newLevel). For SparkR, use setLogLevel(newLevel).\n22/05/12 12:46:05 WARN NativeCodeLoader: Unable to load native-hadoop library for your platform... using builtin-java classes where applicable\n"
                }
            ],
            "source": "from pyspark import SparkContext, SparkConf\nfrom pyspark.sql import SQLContext, SparkSession\nfrom pyspark.sql.types import StructType, StructField, DoubleType, IntegerType, StringType\nsc = SparkContext.getOrCreate(SparkConf().setMaster(\"local[*]\"))\nfrom pyspark.sql import SparkSession\nspark = SparkSession \\\n    .builder \\\n    .getOrCreate()"
        },
        {
            "cell_type": "markdown",
            "metadata": {},
            "source": "\nSo the first thing we need to ensure is that we are on the latest version of SystemML, which is 1.3.0 (as of 20th March'19) Please use the code block below to check if you are already on 1.3.0 or higher. 1.3 contains a necessary fix, that's we are running against the SNAPSHOT\n"
        },
        {
            "cell_type": "code",
            "execution_count": 4,
            "metadata": {},
            "outputs": [
                {
                    "name": "stdout",
                    "output_type": "stream",
                    "text": "--2022-05-12 12:46:09--  https://github.com/IBM/coursera/blob/master/coursera_ml/shake.parquet?raw=true\nResolving github.com (github.com)... 140.82.121.4\nConnecting to github.com (github.com)|140.82.121.4|:443... connected.\nHTTP request sent, awaiting response... 301 Moved Permanently\nLocation: https://github.com/IBM/claimed/blob/master/coursera_ml/shake.parquet?raw=true [following]\n--2022-05-12 12:46:09--  https://github.com/IBM/claimed/blob/master/coursera_ml/shake.parquet?raw=true\nReusing existing connection to github.com:443.\nHTTP request sent, awaiting response... 302 Found\nLocation: https://github.com/IBM/claimed/raw/master/coursera_ml/shake.parquet [following]\n--2022-05-12 12:46:10--  https://github.com/IBM/claimed/raw/master/coursera_ml/shake.parquet\nReusing existing connection to github.com:443.\nHTTP request sent, awaiting response... 302 Found\nLocation: https://raw.githubusercontent.com/IBM/claimed/master/coursera_ml/shake.parquet [following]\n--2022-05-12 12:46:10--  https://raw.githubusercontent.com/IBM/claimed/master/coursera_ml/shake.parquet\nResolving raw.githubusercontent.com (raw.githubusercontent.com)... 185.199.110.133, 185.199.109.133, 185.199.111.133, ...\nConnecting to raw.githubusercontent.com (raw.githubusercontent.com)|185.199.110.133|:443... connected.\nHTTP request sent, awaiting response... 200 OK\nLength: 74727 (73K) [application/octet-stream]\nSaving to: \u2018shake.parquet?raw=true\u2019\n\nshake.parquet?raw=t 100%[===================>]  72.98K  --.-KB/s    in 0.002s  \n\n2022-05-12 12:46:10 (35.5 MB/s) - \u2018shake.parquet?raw=true\u2019 saved [74727/74727]\n\n"
                }
            ],
            "source": "!wget https://github.com/IBM/coursera/blob/master/coursera_ml/shake.parquet?raw=true\n!mv shake.parquet?raw=true shake.parquet"
        },
        {
            "cell_type": "markdown",
            "metadata": {},
            "source": "Now it\u2019s time to read the sensor data and create a temporary query table."
        },
        {
            "cell_type": "code",
            "execution_count": 5,
            "metadata": {},
            "outputs": [
                {
                    "name": "stderr",
                    "output_type": "stream",
                    "text": "                                                                                \r"
                }
            ],
            "source": "df=spark.read.parquet('shake.parquet')"
        },
        {
            "cell_type": "code",
            "execution_count": 6,
            "metadata": {},
            "outputs": [
                {
                    "name": "stdout",
                    "output_type": "stream",
                    "text": "+-----+---------+-----+-----+-----+\n|CLASS| SENSORID|    X|    Y|    Z|\n+-----+---------+-----+-----+-----+\n|    2| qqqqqqqq| 0.12| 0.12| 0.12|\n|    2|aUniqueID| 0.03| 0.03| 0.03|\n|    2| qqqqqqqq|-3.84|-3.84|-3.84|\n|    2| 12345678| -0.1| -0.1| -0.1|\n|    2| 12345678|-0.15|-0.15|-0.15|\n|    2| 12345678| 0.47| 0.47| 0.47|\n|    2| 12345678|-0.06|-0.06|-0.06|\n|    2| 12345678|-0.09|-0.09|-0.09|\n|    2| 12345678| 0.21| 0.21| 0.21|\n|    2| 12345678|-0.08|-0.08|-0.08|\n|    2| 12345678| 0.44| 0.44| 0.44|\n|    2|    gholi| 0.76| 0.76| 0.76|\n|    2|    gholi| 1.62| 1.62| 1.62|\n|    2|    gholi| 5.81| 5.81| 5.81|\n|    2| bcbcbcbc| 0.58| 0.58| 0.58|\n|    2| bcbcbcbc|-8.24|-8.24|-8.24|\n|    2| bcbcbcbc|-0.45|-0.45|-0.45|\n|    2| bcbcbcbc| 1.03| 1.03| 1.03|\n|    2|aUniqueID|-0.05|-0.05|-0.05|\n|    2| qqqqqqqq|-0.44|-0.44|-0.44|\n+-----+---------+-----+-----+-----+\nonly showing top 20 rows\n\n"
                }
            ],
            "source": "df.show()"
        },
        {
            "cell_type": "code",
            "execution_count": 7,
            "metadata": {},
            "outputs": [],
            "source": "df.createOrReplaceTempView(\"df\")"
        },
        {
            "cell_type": "markdown",
            "metadata": {},
            "source": "We\u2019ll use Apache SystemML to implement Discrete Fourier Transformation. This way all computation continues to happen on the Apache Spark cluster for advanced scalability and performance."
        },
        {
            "cell_type": "markdown",
            "metadata": {},
            "source": "As you\u2019ve learned from the lecture, implementing Discrete Fourier Transformation in a linear algebra programming language is simple. Apache SystemML DML is such a language and as you can see the implementation is straightforward and doesn\u2019t differ too much from the mathematical definition (Just note that the sum operator has been swapped with a vector dot product using the %*% syntax borrowed from R\n):\n\n<img style=\"float: left;\" src=\"https://wikimedia.org/api/rest_v1/media/math/render/svg/1af0a78dc50bbf118ab6bd4c4dcc3c4ff8502223\">\n\n"
        },
        {
            "cell_type": "code",
            "execution_count": 8,
            "metadata": {},
            "outputs": [],
            "source": "from pyspark.sql.functions import monotonically_increasing_id\nfrom systemds.context import SystemDSContext\nimport numpy as np\nimport pandas as pd\n\ndef dft_systemds(signal,name):\n\n\n    with SystemDSContext(spark) as sds:\n        pi = sds.scalar(3.141592654)\n        size = signal.count()\n\n        n = sds.from_numpy(np.array(range(0, size, 1)))\n        k = sds.from_numpy(np.array(range(0, size, 1)))\n\n        M = n.__matmul__(k.t())*(2*pi/size)\n        \n        Xa = M.cos().__matmul__(sds.from_numpy(signal.toPandas().to_numpy()))\n        Xb = M.cos().__matmul__(sds.from_numpy(signal.toPandas().to_numpy()))\n        Xa_c = Xa.compute()\n        Xb_c = Xb.compute()   \n\n        DFT = np.hstack((list(map(lambda x: [x],np.array(range(0, size, 1)))),Xa_c, Xb_c))\n        data = np.random.rand(4,4)\n        DFT_pdf = pd.DataFrame(DFT, columns=list([\"id\",name+'_sin',name+'_cos']))\n        DFT_df = spark.createDataFrame(DFT_pdf)\n        return DFT_df"
        },
        {
            "cell_type": "markdown",
            "metadata": {},
            "source": "Now it\u2019s time to create a function which takes a single row Apache Spark data frame as argument (the one containing the accelerometer measurement time series for one axis) and returns the Fourier transformation of it. In addition, we are adding an index column for later joining all axis together and renaming the columns to appropriate names. The result of this function is an Apache Spark DataFrame containing the Fourier Transformation of its input in two columns. \n"
        },
        {
            "cell_type": "markdown",
            "metadata": {},
            "source": "Now it\u2019s time to create individual DataFrames containing only a subset of the data. We filter simultaneously for accelerometer each sensor axis and one for each class. This means you\u2019ll get 6 DataFrames. Please implement this using the relational API of DataFrames or SparkSQL. Please use class 1 and 2 and not 0 and 1. <h1><span style=\"color:red\">Please make sure that each DataFrame has only ONE colum (only the measurement, eg. not CLASS column)</span></h1>\n"
        },
        {
            "cell_type": "code",
            "execution_count": 9,
            "metadata": {},
            "outputs": [],
            "source": "x0 = spark.sql(\"SELECT X from df WHERE CLASS=1\") ###YOUR_CODE_GOES_HERE### => Please create a DataFrame containing only measurements of class 0 from the x axis\ny0 = spark.sql(\"SELECT Y from df WHERE CLASS=1\") ###YOUR_CODE_GOES_HERE### => Please create a DataFrame containing only measurements of class 0 from the y axis\nz0 = spark.sql(\"SELECT Z from df WHERE CLASS=1\") ###YOUR_CODE_GOES_HERE### => Please create a DataFrame containing only measurements of class 0 from the z axis\nx1 = spark.sql(\"SELECT X from df WHERE CLASS=2\") ###YOUR_CODE_GOES_HERE### => Please create a DataFrame containing only measurements of class 1 from the x axis\ny1 = spark.sql(\"SELECT Y from df WHERE CLASS=2\") ###YOUR_CODE_GOES_HERE### => Please create a DataFrame containing only measurements of class 1 from the y axis\nz1 = spark.sql(\"SELECT Z from df WHERE CLASS=2\") ###YOUR_CODE_GOES_HERE### => Please create a DataFrame containing only measurements of class 1 from the z axis"
        },
        {
            "cell_type": "markdown",
            "metadata": {},
            "source": "Since we\u2019ve created this cool DFT function before, we can just call it for each of the 6 DataFrames now. And since the result of this function call is a DataFrame again we can use the pyspark best practice in simply calling methods on it sequentially. So what we are doing is the following:\n\n- Calling DFT for each class and accelerometer sensor axis.\n- Joining them together on the ID column. \n- Re-adding a column containing the class index.\n- Stacking both Dataframes for each classes together\n\n"
        },
        {
            "cell_type": "code",
            "execution_count": 10,
            "metadata": {},
            "outputs": [
                {
                    "name": "stderr",
                    "output_type": "stream",
                    "text": "                                                                                \r"
                },
                {
                    "name": "stdout",
                    "output_type": "stream",
                    "text": "+----+--------------------+--------------------+--------------------+--------------------+--------------------+--------------------+-----+\n|  id|               x_sin|               x_cos|               y_sin|               y_cos|               z_sin|               z_cos|class|\n+----+--------------------+--------------------+--------------------+--------------------+--------------------+--------------------+-----+\n| 8.0|0.007264897147586408|0.007264897147586408|0.007264897147586408|0.007264897147586408|0.007264897147586408|0.007264897147586408|    0|\n| 0.0|               -0.13|               -0.13|               -0.13|               -0.13|               -0.13|               -0.13|    0|\n| 7.0| 0.04362147198699657| 0.04362147198699657| 0.04362147198699657| 0.04362147198699657| 0.04362147198699657| 0.04362147198699657|    0|\n|49.0|-0.07768949082949561|-0.07768949082949561|-0.07768949082949561|-0.07768949082949561|-0.07768949082949561|-0.07768949082949561|    0|\n|29.0|-0.10895275079055323|-0.10895275079055323|-0.10895275079055323|-0.10895275079055323|-0.10895275079055323|-0.10895275079055323|    0|\n|47.0|-0.00210545483171...|-0.00210545483171...|-0.00210545483171...|-0.00210545483171...|-0.00210545483171...|-0.00210545483171...|    0|\n|42.0|  0.0877424196298842|  0.0877424196298842|  0.0877424196298842|  0.0877424196298842|  0.0877424196298842|  0.0877424196298842|    0|\n|44.0|-0.01014654201362...|-0.01014654201362...|-0.01014654201362...|-0.01014654201362...|-0.01014654201362...|-0.01014654201362...|    0|\n|35.0|0.014917607503647524|0.014917607503647524|0.014917607503647524|0.014917607503647524|0.014917607503647524|0.014917607503647524|    0|\n|18.0| 0.06178937294558884| 0.06178937294558884| 0.06178937294558884| 0.06178937294558884| 0.06178937294558884| 0.06178937294558884|    0|\n| 1.0|-0.02887452407349862|-0.02887452407349862|-0.02887452407349862|-0.02887452407349862|-0.02887452407349862|-0.02887452407349862|    0|\n|39.0| 0.07600499297235766| 0.07600499297235766| 0.07600499297235766| 0.07600499297235766| 0.07600499297235766| 0.07600499297235766|    0|\n|34.0| 0.03806781864279874| 0.03806781864279874| 0.03806781864279874| 0.03806781864279874| 0.03806781864279874| 0.03806781864279874|    0|\n|37.0|-0.00895316189594...|-0.00895316189594...|-0.00895316189594...|-0.00895316189594...|-0.00895316189594...|-0.00895316189594...|    0|\n|25.0|-0.08637555895214044|-0.08637555895214044|-0.08637555895214044|-0.08637555895214044|-0.08637555895214044|-0.08637555895214044|    0|\n|36.0|-0.05120371181943163|-0.05120371181943163|-0.05120371181943163|-0.05120371181943163|-0.05120371181943163|-0.05120371181943163|    0|\n|41.0|0.050945537592681445|0.050945537592681445|0.050945537592681445|0.050945537592681445|0.050945537592681445|0.050945537592681445|    0|\n| 4.0|0.010027156636270794|0.010027156636270794|0.010027156636270794|0.010027156636270794|0.010027156636270794|0.010027156636270794|    0|\n|23.0|0.045395539393062484|0.045395539393062484|0.045395539393062484|0.045395539393062484|0.045395539393062484|0.045395539393062484|    0|\n|50.0|-9.90013271400872E-4|-9.90013271400872E-4|-9.90013271400872E-4|-9.90013271400872E-4|-9.90013271400872E-4|-9.90013271400872E-4|    0|\n+----+--------------------+--------------------+--------------------+--------------------+--------------------+--------------------+-----+\nonly showing top 20 rows\n\n"
                }
            ],
            "source": "from pyspark.sql.functions import lit\n\ndf_class_0 = dft_systemds(x0,'x') \\\n    .join(dft_systemds(y0,'y'), on=['id'], how='inner') \\\n    .join(dft_systemds(z0,'z'), on=['id'], how='inner') \\\n    .withColumn('class', lit(0))\n    \ndf_class_1 = dft_systemds(x1,'x') \\\n    .join(dft_systemds(y1,'y'), on=['id'], how='inner') \\\n    .join(dft_systemds(z1,'z'), on=['id'], how='inner') \\\n    .withColumn('class', lit(1))\n\ndf_dft = df_class_0.union(df_class_1)\n\ndf_dft.show()"
        },
        {
            "cell_type": "markdown",
            "metadata": {},
            "source": "Please create a VectorAssembler which consumes the newly created DFT columns and produces a column \u201cfeatures\u201d\n"
        },
        {
            "cell_type": "code",
            "execution_count": 11,
            "metadata": {},
            "outputs": [],
            "source": "from pyspark.ml.feature import VectorAssembler"
        },
        {
            "cell_type": "code",
            "execution_count": 12,
            "metadata": {},
            "outputs": [],
            "source": "vectorAssembler = VectorAssembler(inputCols=[\"x_sin\",\"x_cos\",\"y_sin\",\"y_cos\",\"z_sin\",\"z_cos\"],\n                                  outputCol=\"features\") ###YOUR_CODE_GOES_HERE###"
        },
        {
            "cell_type": "markdown",
            "metadata": {},
            "source": "Please insatiate a classifier from the SparkML package and assign it to the classifier variable. Make sure to set the \u201cclass\u201d column as target.\n"
        },
        {
            "cell_type": "code",
            "execution_count": 13,
            "metadata": {},
            "outputs": [],
            "source": "from pyspark.ml.classification import GBTClassifier"
        },
        {
            "cell_type": "code",
            "execution_count": 14,
            "metadata": {},
            "outputs": [],
            "source": "classifier = GBTClassifier(maxIter=5, maxDepth=2, labelCol=\"class\", seed=42, leafCol=\"leafId\") ###YOUR_CODE_GOES_HERE###"
        },
        {
            "cell_type": "markdown",
            "metadata": {},
            "source": "Let\u2019s train and evaluate\u2026\n"
        },
        {
            "cell_type": "code",
            "execution_count": 15,
            "metadata": {},
            "outputs": [],
            "source": "from pyspark.ml import Pipeline\npipeline = Pipeline(stages=[vectorAssembler, classifier])"
        },
        {
            "cell_type": "code",
            "execution_count": 16,
            "metadata": {},
            "outputs": [
                {
                    "name": "stderr",
                    "output_type": "stream",
                    "text": "                                                                                \r"
                }
            ],
            "source": "model = pipeline.fit(df_dft)"
        },
        {
            "cell_type": "code",
            "execution_count": 17,
            "metadata": {},
            "outputs": [],
            "source": "prediction = model.transform(df_dft)"
        },
        {
            "cell_type": "code",
            "execution_count": 18,
            "metadata": {},
            "outputs": [
                {
                    "name": "stderr",
                    "output_type": "stream",
                    "text": "                                                                                \r"
                },
                {
                    "name": "stdout",
                    "output_type": "stream",
                    "text": "+----+--------------------+--------------------+--------------------+--------------------+--------------------+--------------------+-----+--------------------+--------------------+--------------------+----------+--------------------+\n|  id|               x_sin|               x_cos|               y_sin|               y_cos|               z_sin|               z_cos|class|            features|       rawPrediction|         probability|prediction|              leafId|\n+----+--------------------+--------------------+--------------------+--------------------+--------------------+--------------------+-----+--------------------+--------------------+--------------------+----------+--------------------+\n| 8.0|0.007264897147586408|0.007264897147586408|0.007264897147586408|0.007264897147586408|0.007264897147586408|0.007264897147586408|    0|[0.00726489714758...|[-0.6267952251480...|[0.22207923355138...|       1.0|[1.0,1.0,2.0,2.0,...|\n| 0.0|               -0.13|               -0.13|               -0.13|               -0.13|               -0.13|               -0.13|    0|[-0.13,-0.13,-0.1...|[-0.6914606092071...|[0.20054024902175...|       1.0|[1.0,0.0,2.0,2.0,...|\n| 7.0| 0.04362147198699657| 0.04362147198699657| 0.04362147198699657| 0.04362147198699657| 0.04362147198699657| 0.04362147198699657|    0|[0.04362147198699...|[-0.6267952251480...|[0.22207923355138...|       1.0|[1.0,1.0,2.0,2.0,...|\n|49.0|-0.07768949082949561|-0.07768949082949561|-0.07768949082949561|-0.07768949082949561|-0.07768949082949561|-0.07768949082949561|    0|[-0.0776894908294...|[-0.6914606092071...|[0.20054024902175...|       1.0|[1.0,0.0,2.0,2.0,...|\n|29.0|-0.10895275079055323|-0.10895275079055323|-0.10895275079055323|-0.10895275079055323|-0.10895275079055323|-0.10895275079055323|    0|[-0.1089527507905...|[-0.6914606092071...|[0.20054024902175...|       1.0|[1.0,0.0,2.0,2.0,...|\n|47.0|-0.00210545483171...|-0.00210545483171...|-0.00210545483171...|-0.00210545483171...|-0.00210545483171...|-0.00210545483171...|    0|[-0.0021054548317...|[-0.6267952251480...|[0.22207923355138...|       1.0|[1.0,1.0,2.0,2.0,...|\n|42.0|  0.0877424196298842|  0.0877424196298842|  0.0877424196298842|  0.0877424196298842|  0.0877424196298842|  0.0877424196298842|    0|[0.08774241962988...|[-0.6267952251480...|[0.22207923355138...|       1.0|[1.0,1.0,2.0,2.0,...|\n|44.0|-0.01014654201362...|-0.01014654201362...|-0.01014654201362...|-0.01014654201362...|-0.01014654201362...|-0.01014654201362...|    0|[-0.0101465420136...|[-0.6267952251480...|[0.22207923355138...|       1.0|[1.0,1.0,2.0,2.0,...|\n|35.0|0.014917607503647524|0.014917607503647524|0.014917607503647524|0.014917607503647524|0.014917607503647524|0.014917607503647524|    0|[0.01491760750364...|[-0.6267952251480...|[0.22207923355138...|       1.0|[1.0,1.0,2.0,2.0,...|\n|18.0| 0.06178937294558884| 0.06178937294558884| 0.06178937294558884| 0.06178937294558884| 0.06178937294558884| 0.06178937294558884|    0|[0.06178937294558...|[-0.6267952251480...|[0.22207923355138...|       1.0|[1.0,1.0,2.0,2.0,...|\n| 1.0|-0.02887452407349862|-0.02887452407349862|-0.02887452407349862|-0.02887452407349862|-0.02887452407349862|-0.02887452407349862|    0|[-0.0288745240734...|[-0.6914606092071...|[0.20054024902175...|       1.0|[1.0,0.0,2.0,2.0,...|\n|39.0| 0.07600499297235766| 0.07600499297235766| 0.07600499297235766| 0.07600499297235766| 0.07600499297235766| 0.07600499297235766|    0|[0.07600499297235...|[-0.6267952251480...|[0.22207923355138...|       1.0|[1.0,1.0,2.0,2.0,...|\n|34.0| 0.03806781864279874| 0.03806781864279874| 0.03806781864279874| 0.03806781864279874| 0.03806781864279874| 0.03806781864279874|    0|[0.03806781864279...|[-0.6267952251480...|[0.22207923355138...|       1.0|[1.0,1.0,2.0,2.0,...|\n|37.0|-0.00895316189594...|-0.00895316189594...|-0.00895316189594...|-0.00895316189594...|-0.00895316189594...|-0.00895316189594...|    0|[-0.0089531618959...|[-0.6267952251480...|[0.22207923355138...|       1.0|[1.0,1.0,2.0,2.0,...|\n|25.0|-0.08637555895214044|-0.08637555895214044|-0.08637555895214044|-0.08637555895214044|-0.08637555895214044|-0.08637555895214044|    0|[-0.0863755589521...|[-0.6914606092071...|[0.20054024902175...|       1.0|[1.0,0.0,2.0,2.0,...|\n|36.0|-0.05120371181943163|-0.05120371181943163|-0.05120371181943163|-0.05120371181943163|-0.05120371181943163|-0.05120371181943163|    0|[-0.0512037118194...|[-0.6914606092071...|[0.20054024902175...|       1.0|[1.0,0.0,2.0,2.0,...|\n|41.0|0.050945537592681445|0.050945537592681445|0.050945537592681445|0.050945537592681445|0.050945537592681445|0.050945537592681445|    0|[0.05094553759268...|[-0.6267952251480...|[0.22207923355138...|       1.0|[1.0,1.0,2.0,2.0,...|\n| 4.0|0.010027156636270794|0.010027156636270794|0.010027156636270794|0.010027156636270794|0.010027156636270794|0.010027156636270794|    0|[0.01002715663627...|[-0.6267952251480...|[0.22207923355138...|       1.0|[1.0,1.0,2.0,2.0,...|\n|23.0|0.045395539393062484|0.045395539393062484|0.045395539393062484|0.045395539393062484|0.045395539393062484|0.045395539393062484|    0|[0.04539553939306...|[-0.6267952251480...|[0.22207923355138...|       1.0|[1.0,1.0,2.0,2.0,...|\n|50.0|-9.90013271400872E-4|-9.90013271400872E-4|-9.90013271400872E-4|-9.90013271400872E-4|-9.90013271400872E-4|-9.90013271400872E-4|    0|[-9.9001327140087...|[-0.6267952251480...|[0.22207923355138...|       1.0|[1.0,1.0,2.0,2.0,...|\n+----+--------------------+--------------------+--------------------+--------------------+--------------------+--------------------+-----+--------------------+--------------------+--------------------+----------+--------------------+\nonly showing top 20 rows\n\n"
                },
                {
                    "name": "stderr",
                    "output_type": "stream",
                    "text": "22/05/12 13:01:11 WARN InstanceBuilder$NativeBLAS: Failed to load implementation from:dev.ludovic.netlib.blas.JNIBLAS\n22/05/12 13:01:11 WARN InstanceBuilder$NativeBLAS: Failed to load implementation from:dev.ludovic.netlib.blas.ForeignLinkerBLAS\n"
                }
            ],
            "source": "prediction.show()"
        },
        {
            "cell_type": "code",
            "execution_count": 19,
            "metadata": {},
            "outputs": [
                {
                    "name": "stderr",
                    "output_type": "stream",
                    "text": "                                                                                \r"
                },
                {
                    "data": {
                        "text/plain": "0.9879420407336102"
                    },
                    "execution_count": 19,
                    "metadata": {},
                    "output_type": "execute_result"
                }
            ],
            "source": "from pyspark.ml.evaluation import MulticlassClassificationEvaluator\nbinEval = MulticlassClassificationEvaluator().setMetricName(\"accuracy\") .setPredictionCol(\"prediction\").setLabelCol(\"class\")\n    \nbinEval.evaluate(prediction) "
        },
        {
            "cell_type": "markdown",
            "metadata": {},
            "source": "If you are happy with the result (I\u2019m happy with > 0.8) please submit your solution to the grader by executing the following cells, please don\u2019t forget to obtain an assignment submission token (secret) from the Courera\u2019s graders web page and paste it to the \u201csecret\u201d variable below, including your email address you\u2019ve used for Coursera. \n"
        },
        {
            "cell_type": "code",
            "execution_count": 20,
            "metadata": {},
            "outputs": [],
            "source": "!rm -Rf a2_m4.json"
        },
        {
            "cell_type": "code",
            "execution_count": 21,
            "metadata": {},
            "outputs": [
                {
                    "name": "stderr",
                    "output_type": "stream",
                    "text": "                                                                                \r"
                }
            ],
            "source": "prediction = prediction.repartition(1)\nprediction.write.json('a2_m4.json')"
        },
        {
            "cell_type": "code",
            "execution_count": 22,
            "metadata": {},
            "outputs": [
                {
                    "name": "stdout",
                    "output_type": "stream",
                    "text": "--2022-05-12 13:01:45--  http://wget/\nResolving wget (wget)... failed: Name or service not known.\nwget: unable to resolve host address \u2018wget\u2019\n--2022-05-12 13:01:45--  https://raw.githubusercontent.com/IBM/coursera/master/rklib.py\nResolving raw.githubusercontent.com (raw.githubusercontent.com)... 185.199.108.133, 185.199.111.133, 185.199.110.133, ...\nConnecting to raw.githubusercontent.com (raw.githubusercontent.com)|185.199.108.133|:443... connected.\nHTTP request sent, awaiting response... 200 OK\nLength: 2540 (2.5K) [text/plain]\nSaving to: \u2018rklib.py\u2019\n\nrklib.py            100%[===================>]   2.48K  --.-KB/s    in 0s      \n\n2022-05-12 13:01:45 (37.1 MB/s) - \u2018rklib.py\u2019 saved [2540/2540]\n\nFINISHED --2022-05-12 13:01:45--\nTotal wall clock time: 0.3s\nDownloaded: 1 files, 2.5K in 0s (37.1 MB/s)\n"
                }
            ],
            "source": "!rm -f rklib.py\n!wget wget https://raw.githubusercontent.com/IBM/coursera/master/rklib.py"
        },
        {
            "cell_type": "code",
            "execution_count": 23,
            "metadata": {},
            "outputs": [],
            "source": "from rklib import zipit\nzipit('a2_m4.json.zip','a2_m4.json')"
        },
        {
            "cell_type": "code",
            "execution_count": 24,
            "metadata": {},
            "outputs": [],
            "source": "!base64 a2_m4.json.zip > a2_m4.json.zip.base64"
        },
        {
            "cell_type": "code",
            "execution_count": 25,
            "metadata": {},
            "outputs": [
                {
                    "name": "stdout",
                    "output_type": "stream",
                    "text": "Submission successful, please check on the coursera grader page for the status\n-------------------------\n{\"elements\":[{\"itemId\":\"B8wXV\",\"id\":\"f_F-qCtuEei_fRLwaVDk3g~B8wXV~zcAb69HzEeyTkg5AWxSBEw\",\"courseId\":\"f_F-qCtuEei_fRLwaVDk3g\"}],\"paging\":{},\"linked\":{}}\n-------------------------\n"
                }
            ],
            "source": "# The code was removed by Watson Studio for sharing."
        },
        {
            "cell_type": "code",
            "execution_count": null,
            "metadata": {},
            "outputs": [],
            "source": ""
        }
    ],
    "metadata": {
        "kernelspec": {
            "display_name": "Python 3.9",
            "language": "python",
            "name": "python3"
        },
        "language_info": {
            "codemirror_mode": {
                "name": "ipython",
                "version": 3
            },
            "file_extension": ".py",
            "mimetype": "text/x-python",
            "name": "python",
            "nbconvert_exporter": "python",
            "pygments_lexer": "ipython3",
            "version": "3.9.7"
        }
    },
    "nbformat": 4,
    "nbformat_minor": 4
}